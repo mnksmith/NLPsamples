{
 "cells": [
  {
   "cell_type": "code",
   "execution_count": 214,
   "metadata": {},
   "outputs": [],
   "source": [
    "%matplotlib inline"
   ]
  },
  {
   "cell_type": "code",
   "execution_count": 221,
   "metadata": {},
   "outputs": [
    {
     "data": {
      "text/html": [
       "<div>\n",
       "<style scoped>\n",
       "    .dataframe tbody tr th:only-of-type {\n",
       "        vertical-align: middle;\n",
       "    }\n",
       "\n",
       "    .dataframe tbody tr th {\n",
       "        vertical-align: top;\n",
       "    }\n",
       "\n",
       "    .dataframe thead th {\n",
       "        text-align: right;\n",
       "    }\n",
       "</style>\n",
       "<table border=\"1\" class=\"dataframe\">\n",
       "  <thead>\n",
       "    <tr style=\"text-align: right;\">\n",
       "      <th></th>\n",
       "      <th>Theme</th>\n",
       "      <th>Article</th>\n",
       "      <th>Bill(s) Mentioned</th>\n",
       "      <th>Coverage Ranking</th>\n",
       "      <th>Date</th>\n",
       "      <th>Author</th>\n",
       "      <th>Publication</th>\n",
       "      <th>Outlet Score</th>\n",
       "      <th>MJW/Bill Prominence Score</th>\n",
       "      <th>Sentiment Score</th>\n",
       "      <th>Text</th>\n",
       "    </tr>\n",
       "  </thead>\n",
       "  <tbody>\n",
       "    <tr>\n",
       "      <th>0</th>\n",
       "      <td>Education</td>\n",
       "      <td>Officials, Patriots push for education funding...</td>\n",
       "      <td>PROMISE Act</td>\n",
       "      <td>7.3</td>\n",
       "      <td>3/23/19</td>\n",
       "      <td>Mary Markos</td>\n",
       "      <td>Boston Herald</td>\n",
       "      <td>9.0</td>\n",
       "      <td>5.0</td>\n",
       "      <td>8.0</td>\n",
       "      <td>The Joint Committee on Education heard a full ...</td>\n",
       "    </tr>\n",
       "    <tr>\n",
       "      <th>1</th>\n",
       "      <td>Education</td>\n",
       "      <td>How much is enough? Lawmakers, governor clash ...</td>\n",
       "      <td>PROMISE Act</td>\n",
       "      <td>6.7</td>\n",
       "      <td>3/23/19</td>\n",
       "      <td>Victoria McGrane</td>\n",
       "      <td>Boston Globe</td>\n",
       "      <td>10.0</td>\n",
       "      <td>5.0</td>\n",
       "      <td>5.0</td>\n",
       "      <td>In this year's first major hearing in the deba...</td>\n",
       "    </tr>\n",
       "    <tr>\n",
       "      <th>2</th>\n",
       "      <td>Education</td>\n",
       "      <td>Statehouse Hearing To Highlight Education Fund...</td>\n",
       "      <td>PROMISE Act</td>\n",
       "      <td>7.3</td>\n",
       "      <td>3/23/19</td>\n",
       "      <td>Bob Salsberg</td>\n",
       "      <td>WBUR</td>\n",
       "      <td>9.0</td>\n",
       "      <td>5.0</td>\n",
       "      <td>8.0</td>\n",
       "      <td>State officials and legislative leaders sounde...</td>\n",
       "    </tr>\n",
       "    <tr>\n",
       "      <th>3</th>\n",
       "      <td>Education</td>\n",
       "      <td>Here's What Happened at the Hearing on Educati...</td>\n",
       "      <td>PROMISE Act</td>\n",
       "      <td>7.7</td>\n",
       "      <td>3/23/19</td>\n",
       "      <td>Bob Salsberg</td>\n",
       "      <td>Boston.com</td>\n",
       "      <td>10.0</td>\n",
       "      <td>5.0</td>\n",
       "      <td>8.0</td>\n",
       "      <td>State officials and legislative leaders sounde...</td>\n",
       "    </tr>\n",
       "    <tr>\n",
       "      <th>4</th>\n",
       "      <td>Economic Mobility</td>\n",
       "      <td>Benjamin Franklin Institute joins Boston progr...</td>\n",
       "      <td>Community College</td>\n",
       "      <td>9.0</td>\n",
       "      <td>3/21/19</td>\n",
       "      <td>Annika Hom</td>\n",
       "      <td>Boston Globe</td>\n",
       "      <td>10.0</td>\n",
       "      <td>9.0</td>\n",
       "      <td>8.0</td>\n",
       "      <td>The Benjamin Franklin Institute of Technology ...</td>\n",
       "    </tr>\n",
       "  </tbody>\n",
       "</table>\n",
       "</div>"
      ],
      "text/plain": [
       "               Theme                                            Article  \\\n",
       "0          Education  Officials, Patriots push for education funding...   \n",
       "1          Education  How much is enough? Lawmakers, governor clash ...   \n",
       "2          Education  Statehouse Hearing To Highlight Education Fund...   \n",
       "3          Education  Here's What Happened at the Hearing on Educati...   \n",
       "4  Economic Mobility  Benjamin Franklin Institute joins Boston progr...   \n",
       "\n",
       "   Bill(s) Mentioned  Coverage Ranking     Date            Author  \\\n",
       "0        PROMISE Act               7.3  3/23/19       Mary Markos   \n",
       "1        PROMISE Act               6.7  3/23/19  Victoria McGrane   \n",
       "2        PROMISE Act               7.3  3/23/19      Bob Salsberg   \n",
       "3        PROMISE Act               7.7  3/23/19      Bob Salsberg   \n",
       "4  Community College               9.0  3/21/19        Annika Hom   \n",
       "\n",
       "     Publication  Outlet Score  MJW/Bill Prominence Score  Sentiment Score  \\\n",
       "0  Boston Herald           9.0                        5.0              8.0   \n",
       "1   Boston Globe          10.0                        5.0              5.0   \n",
       "2           WBUR           9.0                        5.0              8.0   \n",
       "3     Boston.com          10.0                        5.0              8.0   \n",
       "4   Boston Globe          10.0                        9.0              8.0   \n",
       "\n",
       "                                                Text  \n",
       "0  The Joint Committee on Education heard a full ...  \n",
       "1  In this year's first major hearing in the deba...  \n",
       "2  State officials and legislative leaders sounde...  \n",
       "3  State officials and legislative leaders sounde...  \n",
       "4  The Benjamin Franklin Institute of Technology ...  "
      ]
     },
     "execution_count": 221,
     "metadata": {},
     "output_type": "execute_result"
    }
   ],
   "source": [
    "import pandas as pd\n",
    "data = pd.read_csv('legislative-agenda-coverage.csv', usecols = range(0,11), encoding = \"ISO-8859-1\")\n",
    "data = data[:53]\n",
    "data.head()"
   ]
  },
  {
   "cell_type": "code",
   "execution_count": 222,
   "metadata": {},
   "outputs": [
    {
     "name": "stdout",
     "output_type": "stream",
     "text": [
      "[nltk_data] Downloading package stopwords to\n",
      "[nltk_data]     /Users/mnksmith/nltk_data...\n",
      "[nltk_data]   Package stopwords is already up-to-date!\n",
      "[nltk_data] Downloading package wordnet to\n",
      "[nltk_data]     /Users/mnksmith/nltk_data...\n",
      "[nltk_data]   Package wordnet is already up-to-date!\n",
      "[nltk_data] Downloading package punkt to /Users/mnksmith/nltk_data...\n",
      "[nltk_data]   Package punkt is already up-to-date!\n"
     ]
    },
    {
     "data": {
      "text/plain": [
       "'joint committee education heard full day testimony friday governor mayor new england patriot player public figure hundred student parent teacher asking state money run public school massachusetts still one worst achievement gap nation rich poor student state sen sonia chang diaz said testimony everybody know money alone also know without money chang diaz boston past chairman education committee testified education promise act filed along state rep aaron vega holyoke mary keefe worcester bill one three major piece legislation joint committee education considering address state school funding formula updated since 1993 two bill address issue filed vice chairman committee rep paul tucker salem gov charlie baker baker testified favor education bill friday act promote equity excellence education along secretary education jim peyser commissioner elementary secondary education jeffrey riley pitched bill package working stride budget proposal many community see persistent achievement gap missed opportunity kid especially urban school high concentration low income student english language learner baker said time close achievement gap continue move public school toward true excellence baker cited national assessment educational progress score black hispanic student scored 220 fourth grade reading white peer scored 240 national average 221 massachusetts overall score led nation 12 straight year though baker bill would increase foundation budget 1 1 billion current dollar 2026 approach criticized felt legislation go quite far enough think aggressive said rep bud williams springfield member education committee lot subgroup really underperforming think quick fix think going make investment aggressive term implementation mayor martin j walsh also addressed importance education reform noted 43 percent student massachusetts face multiple challenge including poverty language barrier disability time boston public school system formula complicated issue walsh said every young person every community deserves full opportunity learn dream thrive 21st century world'"
      ]
     },
     "execution_count": 222,
     "metadata": {},
     "output_type": "execute_result"
    }
   ],
   "source": [
    "import nltk\n",
    "from nltk.corpus import stopwords\n",
    "import re\n",
    "from textblob import Word\n",
    "nltk.download('stopwords')\n",
    "nltk.download('wordnet')\n",
    "nltk.download('punkt')\n",
    "\n",
    "data.Text = data.Text.str.replace('Ò','\\\"')\n",
    "data.Text = data.Text.str.replace('Ó','\\\"')\n",
    "data.Text = data.Text.str.replace('Õ','\\'')\n",
    "data.Text = data.Text.str.replace('Ñ','-')\n",
    "data.Text = data.Text.apply(lambda x: \" \".join(x.lower() for x in re.split('\\W+|/', str(x))))\n",
    "data.Text = data.Text.str.replace('[^\\w\\s]','')\n",
    "stop = stopwords.words('english')\n",
    "data.Text = data.Text.apply(lambda x: \" \".join(x for x in x.split() if x not in stop))\n",
    "data.Text = data.Text.apply(lambda x: \" \".join([Word(word).lemmatize() for word in x.split()]))\n",
    "\n",
    "data.Text[0]"
   ]
  },
  {
   "cell_type": "code",
   "execution_count": 223,
   "metadata": {},
   "outputs": [],
   "source": [
    "pos_words = pd.read_csv('opinion-lexicon-English/positive-words.txt', sep='\\n', skiprows=29, \n",
    "                        header=None, names=['words']).words\n",
    "neg_words = pd.read_csv('opinion-lexicon-English/negative-words.txt', sep='\\n', skiprows=30, \n",
    "                        header=None, names=['words']).words\n",
    "\n"
   ]
  },
  {
   "cell_type": "code",
   "execution_count": 224,
   "metadata": {},
   "outputs": [
    {
     "data": {
      "text/plain": [
       "2006"
      ]
     },
     "execution_count": 224,
     "metadata": {},
     "output_type": "execute_result"
    }
   ],
   "source": [
    "len(pos_words)"
   ]
  },
  {
   "cell_type": "code",
   "execution_count": 225,
   "metadata": {},
   "outputs": [
    {
     "data": {
      "text/plain": [
       "4783"
      ]
     },
     "execution_count": 225,
     "metadata": {},
     "output_type": "execute_result"
    }
   ],
   "source": [
    "len(neg_words)"
   ]
  },
  {
   "cell_type": "code",
   "execution_count": 226,
   "metadata": {},
   "outputs": [
    {
     "name": "stdout",
     "output_type": "stream",
     "text": [
      "0\n",
      "14\n",
      "11\n",
      "1.04\n",
      "6.18\n",
      "1\n",
      "25\n",
      "19\n",
      "0.89\n",
      "4.65\n",
      "2\n",
      "11\n",
      "12\n",
      "-0.23\n",
      "3.77\n",
      "3\n",
      "11\n",
      "12\n",
      "-0.23\n",
      "3.77\n",
      "4\n",
      "13\n",
      "3\n",
      "4.27\n",
      "5.7\n",
      "5\n",
      "64\n",
      "29\n",
      "2.94\n",
      "5.9\n",
      "6\n",
      "64\n",
      "29\n",
      "2.94\n",
      "5.9\n",
      "7\n",
      "29\n",
      "21\n",
      "1.68\n",
      "7.54\n",
      "8\n",
      "19\n",
      "11\n",
      "1.71\n",
      "4.68\n",
      "9\n",
      "42\n",
      "12\n",
      "6.02\n",
      "8.77\n",
      "10\n",
      "42\n",
      "12\n",
      "6.02\n",
      "8.77\n",
      "11\n",
      "18\n",
      "13\n",
      "2.23\n",
      "9.91\n",
      "12\n",
      "24\n",
      "10\n",
      "2.71\n",
      "5.04\n",
      "13\n",
      "9\n",
      "7\n",
      "0.65\n",
      "3.69\n",
      "14\n",
      "20\n",
      "11\n",
      "2.8\n",
      "7.11\n",
      "15\n",
      "17\n",
      "19\n",
      "-0.32\n",
      "4.11\n",
      "16\n",
      "15\n",
      "9\n",
      "1.26\n",
      "3.66\n",
      "17\n",
      "43\n",
      "9\n",
      "4.68\n",
      "6.04\n",
      "18\n",
      "43\n",
      "23\n",
      "2.78\n",
      "6.78\n",
      "19\n",
      "16\n",
      "2\n",
      "4.24\n",
      "4.89\n",
      "20\n",
      "44\n",
      "28\n",
      "1.83\n",
      "5.98\n",
      "21\n",
      "19\n",
      "18\n",
      "0.21\n",
      "5.43\n",
      "22\n",
      "3\n",
      "3\n",
      "0.0\n",
      "5.44\n",
      "23\n",
      "3\n",
      "3\n",
      "0.0\n",
      "5.44\n",
      "24\n",
      "36\n",
      "19\n",
      "3.08\n",
      "7.37\n",
      "25\n",
      "55\n",
      "15\n",
      "5.23\n",
      "7.45\n",
      "26\n",
      "36\n",
      "14\n",
      "3.91\n",
      "6.86\n",
      "27\n",
      "27\n",
      "17\n",
      "1.54\n",
      "4.91\n",
      "28\n",
      "15\n",
      "17\n",
      "-0.55\n",
      "6.26\n",
      "29\n",
      "5\n",
      "18\n",
      "-6.02\n",
      "8.65\n",
      "30\n",
      "19\n",
      "16\n",
      "0.89\n",
      "7.39\n",
      "31\n",
      "22\n",
      "11\n",
      "2.37\n",
      "5.29\n",
      "32\n",
      "5\n",
      "6\n",
      "-0.35\n",
      "2.77\n",
      "33\n",
      "41\n",
      "28\n",
      "1.64\n",
      "6.25\n",
      "34\n",
      "7\n",
      "9\n",
      "-1.1\n",
      "6.26\n",
      "35\n",
      "16\n",
      "4\n",
      "3.86\n",
      "5.3\n",
      "36\n",
      "6\n",
      "2\n",
      "2.27\n",
      "3.59\n",
      "37\n",
      "18\n",
      "10\n",
      "2.82\n",
      "7.25\n",
      "38\n",
      "10\n",
      "9\n",
      "0.49\n",
      "6.53\n",
      "39\n",
      "4\n",
      "1\n",
      "2.31\n",
      "3.17\n",
      "40\n",
      "0\n",
      "0\n",
      "0.0\n",
      "0.0\n",
      "41\n",
      "5\n",
      "5\n",
      "0.0\n",
      "4.48\n",
      "42\n",
      "12\n",
      "10\n",
      "1.06\n",
      "8.31\n",
      "43\n",
      "1\n",
      "19\n",
      "-9.63\n",
      "10.17\n",
      "44\n",
      "4\n",
      "6\n",
      "-1.92\n",
      "6.93\n",
      "45\n",
      "20\n",
      "4\n",
      "4.75\n",
      "6.05\n",
      "46\n",
      "14\n",
      "9\n",
      "1.8\n",
      "5.99\n",
      "47\n",
      "22\n",
      "11\n",
      "4.3\n",
      "9.61\n",
      "48\n",
      "36\n",
      "10\n",
      "5.19\n",
      "7.46\n",
      "49\n",
      "4\n",
      "3\n",
      "1.09\n",
      "5.43\n",
      "50\n",
      "15\n",
      "13\n",
      "0.94\n",
      "9.32\n",
      "51\n",
      "9\n",
      "2\n",
      "4.27\n",
      "5.62\n",
      "52\n",
      "48\n",
      "12\n",
      "8.59\n",
      "11.81\n"
     ]
    }
   ],
   "source": [
    "results = []\n",
    "results2 = []\n",
    "mayor = []\n",
    "for i in range(len(data)):\n",
    "    pos_count=0\n",
    "    neg_count=0\n",
    "    mayor_count=0\n",
    "    for word in data.Text[i].split():\n",
    "        if word in pos_words.values:\n",
    "            pos_count+=1\n",
    "        if word in neg_words.values:\n",
    "            neg_count+=1\n",
    "        if (word=='walsh') or (word=='mayor'):\n",
    "            mayor_count+=1\n",
    "    \n",
    "    print(i)\n",
    "    print(pos_count)\n",
    "    print(neg_count)\n",
    "    print(round(100*(pos_count - neg_count)/len(data.Text[i].split()),2))\n",
    "    print(round(100*(pos_count**2 + neg_count**2)**(1/2)/len(data.Text[i].split()),2))\n",
    "    results.append( 100*(pos_count - neg_count)/len(data.Text[i].split()) )\n",
    "    results2.append( 100*(pos_count + neg_count)/len(data.Text[i].split()) )\n",
    "    mayor.append(mayor_count)\n",
    "\n",
    "data['Sentiment Calc'] = results\n",
    "data['Sentiment Mag'] = results2\n",
    "data['Mayor Count'] = mayor"
   ]
  },
  {
   "cell_type": "code",
   "execution_count": 227,
   "metadata": {},
   "outputs": [
    {
     "data": {
      "text/html": [
       "<div>\n",
       "<style scoped>\n",
       "    .dataframe tbody tr th:only-of-type {\n",
       "        vertical-align: middle;\n",
       "    }\n",
       "\n",
       "    .dataframe tbody tr th {\n",
       "        vertical-align: top;\n",
       "    }\n",
       "\n",
       "    .dataframe thead th {\n",
       "        text-align: right;\n",
       "    }\n",
       "</style>\n",
       "<table border=\"1\" class=\"dataframe\">\n",
       "  <thead>\n",
       "    <tr style=\"text-align: right;\">\n",
       "      <th></th>\n",
       "      <th>Theme</th>\n",
       "      <th>Article</th>\n",
       "      <th>Bill(s) Mentioned</th>\n",
       "      <th>Coverage Ranking</th>\n",
       "      <th>Date</th>\n",
       "      <th>Author</th>\n",
       "      <th>Publication</th>\n",
       "      <th>Outlet Score</th>\n",
       "      <th>MJW/Bill Prominence Score</th>\n",
       "      <th>Sentiment Score</th>\n",
       "      <th>Text</th>\n",
       "      <th>Sentiment Calc</th>\n",
       "      <th>Sentiment Mag</th>\n",
       "      <th>Mayor Count</th>\n",
       "    </tr>\n",
       "  </thead>\n",
       "  <tbody>\n",
       "    <tr>\n",
       "      <th>0</th>\n",
       "      <td>Education</td>\n",
       "      <td>Officials, Patriots push for education funding...</td>\n",
       "      <td>PROMISE Act</td>\n",
       "      <td>7.3</td>\n",
       "      <td>3/23/19</td>\n",
       "      <td>Mary Markos</td>\n",
       "      <td>Boston Herald</td>\n",
       "      <td>9.0</td>\n",
       "      <td>5.0</td>\n",
       "      <td>8.0</td>\n",
       "      <td>joint committee education heard full day testi...</td>\n",
       "      <td>1.041667</td>\n",
       "      <td>8.680556</td>\n",
       "      <td>4</td>\n",
       "    </tr>\n",
       "    <tr>\n",
       "      <th>1</th>\n",
       "      <td>Education</td>\n",
       "      <td>How much is enough? Lawmakers, governor clash ...</td>\n",
       "      <td>PROMISE Act</td>\n",
       "      <td>6.7</td>\n",
       "      <td>3/23/19</td>\n",
       "      <td>Victoria McGrane</td>\n",
       "      <td>Boston Globe</td>\n",
       "      <td>10.0</td>\n",
       "      <td>5.0</td>\n",
       "      <td>5.0</td>\n",
       "      <td>year first major hearing debate education fund...</td>\n",
       "      <td>0.888889</td>\n",
       "      <td>6.518519</td>\n",
       "      <td>3</td>\n",
       "    </tr>\n",
       "    <tr>\n",
       "      <th>2</th>\n",
       "      <td>Education</td>\n",
       "      <td>Statehouse Hearing To Highlight Education Fund...</td>\n",
       "      <td>PROMISE Act</td>\n",
       "      <td>7.3</td>\n",
       "      <td>3/23/19</td>\n",
       "      <td>Bob Salsberg</td>\n",
       "      <td>WBUR</td>\n",
       "      <td>9.0</td>\n",
       "      <td>5.0</td>\n",
       "      <td>8.0</td>\n",
       "      <td>state official legislative leader sounded opti...</td>\n",
       "      <td>-0.231481</td>\n",
       "      <td>5.324074</td>\n",
       "      <td>4</td>\n",
       "    </tr>\n",
       "    <tr>\n",
       "      <th>3</th>\n",
       "      <td>Education</td>\n",
       "      <td>Here's What Happened at the Hearing on Educati...</td>\n",
       "      <td>PROMISE Act</td>\n",
       "      <td>7.7</td>\n",
       "      <td>3/23/19</td>\n",
       "      <td>Bob Salsberg</td>\n",
       "      <td>Boston.com</td>\n",
       "      <td>10.0</td>\n",
       "      <td>5.0</td>\n",
       "      <td>8.0</td>\n",
       "      <td>state official legislative leader sounded opti...</td>\n",
       "      <td>-0.231481</td>\n",
       "      <td>5.324074</td>\n",
       "      <td>4</td>\n",
       "    </tr>\n",
       "    <tr>\n",
       "      <th>4</th>\n",
       "      <td>Economic Mobility</td>\n",
       "      <td>Benjamin Franklin Institute joins Boston progr...</td>\n",
       "      <td>Community College</td>\n",
       "      <td>9.0</td>\n",
       "      <td>3/21/19</td>\n",
       "      <td>Annika Hom</td>\n",
       "      <td>Boston Globe</td>\n",
       "      <td>10.0</td>\n",
       "      <td>9.0</td>\n",
       "      <td>8.0</td>\n",
       "      <td>benjamin franklin institute technology become ...</td>\n",
       "      <td>4.273504</td>\n",
       "      <td>6.837607</td>\n",
       "      <td>4</td>\n",
       "    </tr>\n",
       "  </tbody>\n",
       "</table>\n",
       "</div>"
      ],
      "text/plain": [
       "               Theme                                            Article  \\\n",
       "0          Education  Officials, Patriots push for education funding...   \n",
       "1          Education  How much is enough? Lawmakers, governor clash ...   \n",
       "2          Education  Statehouse Hearing To Highlight Education Fund...   \n",
       "3          Education  Here's What Happened at the Hearing on Educati...   \n",
       "4  Economic Mobility  Benjamin Franklin Institute joins Boston progr...   \n",
       "\n",
       "   Bill(s) Mentioned  Coverage Ranking     Date            Author  \\\n",
       "0        PROMISE Act               7.3  3/23/19       Mary Markos   \n",
       "1        PROMISE Act               6.7  3/23/19  Victoria McGrane   \n",
       "2        PROMISE Act               7.3  3/23/19      Bob Salsberg   \n",
       "3        PROMISE Act               7.7  3/23/19      Bob Salsberg   \n",
       "4  Community College               9.0  3/21/19        Annika Hom   \n",
       "\n",
       "     Publication  Outlet Score  MJW/Bill Prominence Score  Sentiment Score  \\\n",
       "0  Boston Herald           9.0                        5.0              8.0   \n",
       "1   Boston Globe          10.0                        5.0              5.0   \n",
       "2           WBUR           9.0                        5.0              8.0   \n",
       "3     Boston.com          10.0                        5.0              8.0   \n",
       "4   Boston Globe          10.0                        9.0              8.0   \n",
       "\n",
       "                                                Text  Sentiment Calc  \\\n",
       "0  joint committee education heard full day testi...        1.041667   \n",
       "1  year first major hearing debate education fund...        0.888889   \n",
       "2  state official legislative leader sounded opti...       -0.231481   \n",
       "3  state official legislative leader sounded opti...       -0.231481   \n",
       "4  benjamin franklin institute technology become ...        4.273504   \n",
       "\n",
       "   Sentiment Mag  Mayor Count  \n",
       "0       8.680556            4  \n",
       "1       6.518519            3  \n",
       "2       5.324074            4  \n",
       "3       5.324074            4  \n",
       "4       6.837607            4  "
      ]
     },
     "execution_count": 227,
     "metadata": {},
     "output_type": "execute_result"
    }
   ],
   "source": [
    "data.head()"
   ]
  },
  {
   "cell_type": "code",
   "execution_count": 228,
   "metadata": {},
   "outputs": [
    {
     "name": "stderr",
     "output_type": "stream",
     "text": [
      "/Users/mnksmith/anaconda/envs/py36/lib/python3.6/site-packages/scipy/stats/stats.py:1713: FutureWarning: Using a non-tuple sequence for multidimensional indexing is deprecated; use `arr[tuple(seq)]` instead of `arr[seq]`. In the future this will be interpreted as an array index, `arr[np.array(seq)]`, which will result either in an error or a different result.\n",
      "  return np.add.reduce(sorted[indexer] * weights, axis=axis) / sumval\n",
      "/Users/mnksmith/anaconda/envs/py36/lib/python3.6/site-packages/seaborn/axisgrid.py:1847: UserWarning: JointGrid annotation is deprecated and will be removed in a future release.\n",
      "  warnings.warn(UserWarning(msg))\n"
     ]
    },
    {
     "data": {
      "text/plain": [
       "<seaborn.axisgrid.JointGrid at 0x1a1b873358>"
      ]
     },
     "execution_count": 228,
     "metadata": {},
     "output_type": "execute_result"
    },
    {
     "data": {
      "image/png": "[encoded data removed]",
      "text/plain": [
       "<matplotlib.figure.Figure at 0x1a1b873400>"
      ]
     },
     "metadata": {},
     "output_type": "display_data"
    }
   ],
   "source": [
    "import seaborn as sns\n",
    "from scipy import stats\n",
    "def r2(x, y):\n",
    "    return stats.pearsonr(x, y)#[0] ** 2\n",
    "\n",
    "sns.jointplot(data['Sentiment Score'], data['Sentiment Calc'], kind='reg', stat_func=r2)\n"
   ]
  },
  {
   "cell_type": "code",
   "execution_count": 229,
   "metadata": {},
   "outputs": [
    {
     "data": {
      "text/html": [
       "<div>\n",
       "<style scoped>\n",
       "    .dataframe tbody tr th:only-of-type {\n",
       "        vertical-align: middle;\n",
       "    }\n",
       "\n",
       "    .dataframe tbody tr th {\n",
       "        vertical-align: top;\n",
       "    }\n",
       "\n",
       "    .dataframe thead th {\n",
       "        text-align: right;\n",
       "    }\n",
       "</style>\n",
       "<table border=\"1\" class=\"dataframe\">\n",
       "  <thead>\n",
       "    <tr style=\"text-align: right;\">\n",
       "      <th></th>\n",
       "      <th>Theme</th>\n",
       "      <th>Article</th>\n",
       "      <th>Bill(s) Mentioned</th>\n",
       "      <th>Coverage Ranking</th>\n",
       "      <th>Date</th>\n",
       "      <th>Author</th>\n",
       "      <th>Publication</th>\n",
       "      <th>Outlet Score</th>\n",
       "      <th>MJW/Bill Prominence Score</th>\n",
       "      <th>Sentiment Score</th>\n",
       "      <th>Text</th>\n",
       "      <th>Sentiment Calc</th>\n",
       "      <th>Sentiment Mag</th>\n",
       "      <th>Mayor Count</th>\n",
       "    </tr>\n",
       "  </thead>\n",
       "  <tbody>\n",
       "    <tr>\n",
       "      <th>29</th>\n",
       "      <td>Health, Public Safety</td>\n",
       "      <td>Boston top cop introduces bills to curb gun vi...</td>\n",
       "      <td>Vehicles Transporting Guns, Doctors &amp; Guns in ...</td>\n",
       "      <td>8.7</td>\n",
       "      <td>1/10/19</td>\n",
       "      <td>Taylor Pettaway</td>\n",
       "      <td>Boston Herald</td>\n",
       "      <td>9.0</td>\n",
       "      <td>9.0</td>\n",
       "      <td>8.0</td>\n",
       "      <td>aggressive bill proposal backed boston police ...</td>\n",
       "      <td>-6.018519</td>\n",
       "      <td>10.648148</td>\n",
       "      <td>2</td>\n",
       "    </tr>\n",
       "    <tr>\n",
       "      <th>43</th>\n",
       "      <td>Environment</td>\n",
       "      <td>Boston mayor asks state lawmakers to penalize ...</td>\n",
       "      <td>Gas Leaks Fine</td>\n",
       "      <td>9.0</td>\n",
       "      <td>1/8/19</td>\n",
       "      <td>NaN</td>\n",
       "      <td>WCBV</td>\n",
       "      <td>9.0</td>\n",
       "      <td>10.0</td>\n",
       "      <td>8.0</td>\n",
       "      <td>boston mayor marty walsh second suite legislat...</td>\n",
       "      <td>-9.625668</td>\n",
       "      <td>10.695187</td>\n",
       "      <td>9</td>\n",
       "    </tr>\n",
       "  </tbody>\n",
       "</table>\n",
       "</div>"
      ],
      "text/plain": [
       "                    Theme                                            Article  \\\n",
       "29  Health, Public Safety  Boston top cop introduces bills to curb gun vi...   \n",
       "43            Environment  Boston mayor asks state lawmakers to penalize ...   \n",
       "\n",
       "                                    Bill(s) Mentioned  Coverage Ranking  \\\n",
       "29  Vehicles Transporting Guns, Doctors & Guns in ...               8.7   \n",
       "43                                     Gas Leaks Fine               9.0   \n",
       "\n",
       "       Date           Author    Publication  Outlet Score  \\\n",
       "29  1/10/19  Taylor Pettaway  Boston Herald           9.0   \n",
       "43   1/8/19              NaN           WCBV           9.0   \n",
       "\n",
       "    MJW/Bill Prominence Score  Sentiment Score  \\\n",
       "29                        9.0              8.0   \n",
       "43                       10.0              8.0   \n",
       "\n",
       "                                                 Text  Sentiment Calc  \\\n",
       "29  aggressive bill proposal backed boston police ...       -6.018519   \n",
       "43  boston mayor marty walsh second suite legislat...       -9.625668   \n",
       "\n",
       "    Sentiment Mag  Mayor Count  \n",
       "29      10.648148            2  \n",
       "43      10.695187            9  "
      ]
     },
     "execution_count": 229,
     "metadata": {},
     "output_type": "execute_result"
    }
   ],
   "source": [
    "data.loc[data['Sentiment Calc']<-5]"
   ]
  },
  {
   "cell_type": "code",
   "execution_count": 230,
   "metadata": {},
   "outputs": [
    {
     "data": {
      "text/plain": [
       "<matplotlib.axes._subplots.AxesSubplot at 0x1a1b7a9400>"
      ]
     },
     "execution_count": 230,
     "metadata": {},
     "output_type": "execute_result"
    },
    {
     "data": {
      "image/png": "[encoded data removed]",
      "text/plain": [
       "<matplotlib.figure.Figure at 0x1a1b7d1518>"
      ]
     },
     "metadata": {},
     "output_type": "display_data"
    }
   ],
   "source": [
    "sns.scatterplot(x=data['Sentiment Score'], y=data['Sentiment Calc'], \n",
    "                size=data['Sentiment Mag'], sizes=(20,200), alpha=0.5, legend=False)"
   ]
  },
  {
   "cell_type": "code",
   "execution_count": 178,
   "metadata": {},
   "outputs": [
    {
     "name": "stderr",
     "output_type": "stream",
     "text": [
      "/Users/mnksmith/anaconda/envs/py36/lib/python3.6/site-packages/scipy/stats/stats.py:1713: FutureWarning: Using a non-tuple sequence for multidimensional indexing is deprecated; use `arr[tuple(seq)]` instead of `arr[seq]`. In the future this will be interpreted as an array index, `arr[np.array(seq)]`, which will result either in an error or a different result.\n",
      "  return np.add.reduce(sorted[indexer] * weights, axis=axis) / sumval\n"
     ]
    },
    {
     "data": {
      "text/plain": [
       "<matplotlib.axes._subplots.AxesSubplot at 0x1a2bfff0f0>"
      ]
     },
     "execution_count": 178,
     "metadata": {},
     "output_type": "execute_result"
    },
    {
     "data": {
      "image/png": "[encoded data removed]",
      "text/plain": [
       "<matplotlib.figure.Figure at 0x1a2bff39e8>"
      ]
     },
     "metadata": {},
     "output_type": "display_data"
    }
   ],
   "source": [
    "sns.distplot(data['Mayor Count'])"
   ]
  },
  {
   "cell_type": "code",
   "execution_count": 232,
   "metadata": {},
   "outputs": [],
   "source": [
    "from textblob import TextBlob\n",
    "\n",
    "polarities = []\n",
    "subjectivities = []\n",
    "for i in range(len(data)):\n",
    "    polarity = TextBlob(data.Text[i]).polarity\n",
    "    subjectivity = TextBlob(data.Text[i]).subjectivity\n",
    "    polarities.append(polarity)\n",
    "    subjectivities.append(subjectivity)\n",
    "    \n",
    "data['polarity'] = polarities\n",
    "data['subjectivity'] = subjectivities"
   ]
  },
  {
   "cell_type": "code",
   "execution_count": 233,
   "metadata": {},
   "outputs": [
    {
     "name": "stderr",
     "output_type": "stream",
     "text": [
      "/Users/mnksmith/anaconda/envs/py36/lib/python3.6/site-packages/scipy/stats/stats.py:1713: FutureWarning: Using a non-tuple sequence for multidimensional indexing is deprecated; use `arr[tuple(seq)]` instead of `arr[seq]`. In the future this will be interpreted as an array index, `arr[np.array(seq)]`, which will result either in an error or a different result.\n",
      "  return np.add.reduce(sorted[indexer] * weights, axis=axis) / sumval\n",
      "/Users/mnksmith/anaconda/envs/py36/lib/python3.6/site-packages/seaborn/axisgrid.py:1847: UserWarning: JointGrid annotation is deprecated and will be removed in a future release.\n",
      "  warnings.warn(UserWarning(msg))\n"
     ]
    },
    {
     "data": {
      "text/plain": [
       "<seaborn.axisgrid.JointGrid at 0x1a2e2a26a0>"
      ]
     },
     "execution_count": 233,
     "metadata": {},
     "output_type": "execute_result"
    },
    {
     "data": {
      "image/png": "[encoded data removed]",
      "text/plain": [
       "<matplotlib.figure.Figure at 0x1a2e2850b8>"
      ]
     },
     "metadata": {},
     "output_type": "display_data"
    }
   ],
   "source": [
    "sns.jointplot(x=data['Sentiment Score'], y=data['polarity'], kind='reg', stat_func=r2)"
   ]
  },
  {
   "cell_type": "code",
   "execution_count": 185,
   "metadata": {},
   "outputs": [
    {
     "data": {
      "text/plain": [
       "<matplotlib.axes._subplots.AxesSubplot at 0x1a2c331a90>"
      ]
     },
     "execution_count": 185,
     "metadata": {},
     "output_type": "execute_result"
    },
    {
     "data": {
      "image/png": "[encoded data removed]",
      "text/plain": [
       "<matplotlib.figure.Figure at 0x1a2c30afd0>"
      ]
     },
     "metadata": {},
     "output_type": "display_data"
    }
   ],
   "source": [
    "sns.scatterplot(x=data['Sentiment Calc'], y=data['polarity'])"
   ]
  },
  {
   "cell_type": "code",
   "execution_count": 247,
   "metadata": {},
   "outputs": [
    {
     "data": {
      "text/html": [
       "<div>\n",
       "<style scoped>\n",
       "    .dataframe tbody tr th:only-of-type {\n",
       "        vertical-align: middle;\n",
       "    }\n",
       "\n",
       "    .dataframe tbody tr th {\n",
       "        vertical-align: top;\n",
       "    }\n",
       "\n",
       "    .dataframe thead th {\n",
       "        text-align: right;\n",
       "    }\n",
       "</style>\n",
       "<table border=\"1\" class=\"dataframe\">\n",
       "  <thead>\n",
       "    <tr style=\"text-align: right;\">\n",
       "      <th></th>\n",
       "      <th>PhraseId</th>\n",
       "      <th>SentenceId</th>\n",
       "      <th>Phrase</th>\n",
       "      <th>Sentiment</th>\n",
       "    </tr>\n",
       "  </thead>\n",
       "  <tbody>\n",
       "    <tr>\n",
       "      <th>0</th>\n",
       "      <td>1</td>\n",
       "      <td>1</td>\n",
       "      <td>A series of escapades demonstrating the adage ...</td>\n",
       "      <td>1</td>\n",
       "    </tr>\n",
       "    <tr>\n",
       "      <th>1</th>\n",
       "      <td>2</td>\n",
       "      <td>1</td>\n",
       "      <td>A series of escapades demonstrating the adage ...</td>\n",
       "      <td>2</td>\n",
       "    </tr>\n",
       "    <tr>\n",
       "      <th>2</th>\n",
       "      <td>3</td>\n",
       "      <td>1</td>\n",
       "      <td>A series</td>\n",
       "      <td>2</td>\n",
       "    </tr>\n",
       "    <tr>\n",
       "      <th>3</th>\n",
       "      <td>4</td>\n",
       "      <td>1</td>\n",
       "      <td>A</td>\n",
       "      <td>2</td>\n",
       "    </tr>\n",
       "    <tr>\n",
       "      <th>4</th>\n",
       "      <td>5</td>\n",
       "      <td>1</td>\n",
       "      <td>series</td>\n",
       "      <td>2</td>\n",
       "    </tr>\n",
       "  </tbody>\n",
       "</table>\n",
       "</div>"
      ],
      "text/plain": [
       "   PhraseId  SentenceId                                             Phrase  \\\n",
       "0         1           1  A series of escapades demonstrating the adage ...   \n",
       "1         2           1  A series of escapades demonstrating the adage ...   \n",
       "2         3           1                                           A series   \n",
       "3         4           1                                                  A   \n",
       "4         5           1                                             series   \n",
       "\n",
       "   Sentiment  \n",
       "0          1  \n",
       "1          2  \n",
       "2          2  \n",
       "3          2  \n",
       "4          2  "
      ]
     },
     "execution_count": 247,
     "metadata": {},
     "output_type": "execute_result"
    }
   ],
   "source": [
    "train=pd.read_csv('train.tsv', sep='\\t')\n",
    "train.head()"
   ]
  },
  {
   "cell_type": "code",
   "execution_count": 248,
   "metadata": {},
   "outputs": [
    {
     "data": {
      "text/plain": [
       "156060"
      ]
     },
     "execution_count": 248,
     "metadata": {},
     "output_type": "execute_result"
    }
   ],
   "source": [
    "len(train)"
   ]
  },
  {
   "cell_type": "code",
   "execution_count": null,
   "metadata": {},
   "outputs": [],
   "source": []
  }
 ],
 "metadata": {
  "kernelspec": {
   "display_name": "Python 3",
   "language": "python",
   "name": "python3"
  },
  "language_info": {
   "codemirror_mode": {
    "name": "ipython",
    "version": 3
   },
   "file_extension": ".py",
   "mimetype": "text/x-python",
   "name": "python",
   "nbconvert_exporter": "python",
   "pygments_lexer": "ipython3",
   "version": "3.7.3"
  }
 },
 "nbformat": 4,
 "nbformat_minor": 2
}
